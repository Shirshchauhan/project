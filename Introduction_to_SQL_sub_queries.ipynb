{
  "nbformat": 4,
  "nbformat_minor": 0,
  "metadata": {
    "colab": {
      "name": "Introduction to SQL sub-queries.ipynb",
      "provenance": [],
      "include_colab_link": true
    },
    "kernelspec": {
      "name": "python3",
      "display_name": "Python 3"
    }
  },
  "cells": [
    {
      "cell_type": "markdown",
      "metadata": {
        "id": "view-in-github",
        "colab_type": "text"
      },
      "source": [
        "<a href=\"https://colab.research.google.com/github/Shirshchauhan/project/blob/main/Introduction_to_SQL_sub_queries.ipynb\" target=\"_parent\"><img src=\"https://colab.research.google.com/assets/colab-badge.svg\" alt=\"Open In Colab\"/></a>"
      ]
    },
    {
      "cell_type": "markdown",
      "metadata": {
        "id": "pAynvpmlvdZt"
      },
      "source": [
        "### Introduction to SQL Sub-Queries\n",
        "\n",
        "This notebook explore the basics of the use of sub-queries with SQL"
      ]
    },
    {
      "cell_type": "markdown",
      "source": [
        "Write a query to display the customer's first name, city and venue id of all the customers who live in the same city and enquired about the same venue.\n",
        "\n",
        "(Hint:  Retrieve records from the Customer_Master and  Enquiry_Master.)\n",
        "\n",
        "Sample Records:\n",
        "\n",
        "C_first_name\n",
        "\n",
        "City\n",
        "\n",
        "Venue id\n",
        "\n",
        "Angela\n",
        "\n",
        "Bangalore\n",
        "\n",
        "V03\n",
        "\n",
        "Amelia\n",
        "\n",
        "Bangalore\n",
        "\n",
        "V03\n",
        "\n",
        "Carolin\n",
        "\n",
        "Chennai\n",
        "\n",
        "V01\n",
        "\n",
        "Jamie\n",
        "\n",
        "Chennai\n",
        "\n",
        "V01\n",
        "\n",
        "\n",
        "Sample Output:\n",
        "\n",
        "C_first_name\n",
        "\n",
        "C_first_name\n",
        "\n",
        "City\n",
        "\n",
        "Venue id\n",
        "\n",
        "Carolin\n",
        "\n",
        "Jamie\n",
        "\n",
        "Chennai\n",
        "\n",
        "V01\n",
        "\n",
        "Jamie\n",
        "\n",
        "Carolin\n",
        "\n",
        "Chennai\n",
        "\n",
        "V01\n",
        "\n",
        "Angela\n",
        "\n",
        "Amelia\n",
        "\n",
        "Bangalore\n",
        "\n",
        "V03\n",
        "\n",
        "Amelia\n",
        "\n",
        "Angela\n",
        "\n",
        "Bangalore\n",
        "\n",
        "V03\n",
        "\n"
      ],
      "metadata": {
        "id": "ZLek-a6-Mfmw"
      }
    },
    {
      "cell_type": "code",
      "source": [
        "select\n",
        "CM1.C_first_name as c_first_name,\n",
        "CN2.C_first_name as c_first_name,\n",
        "CM1.city,\n",
        "EM1.venue_id\n",
        "\n",
        "from\n",
        "Customer_Master CM1\n",
        "\n",
        "join\n",
        "Enquiry_Master EM1\n",
        "ON\n",
        "CM1.Cust_id = EM1.Cust_id\n",
        "\n",
        "join\n",
        "Customer_Master CM2\n",
        "ON\n",
        "CM1.City = CM2.City\n",
        "and\n",
        "CM1.Cust_id != CM2.Cust_id\n",
        "\n",
        "join\n",
        "Enquiry_Master EM2\n",
        "ON\n",
        "CM2.Cust_id = EM2.Cust_id\n",
        "AND\n",
        "EM1.Venue_id = EM2.Venue_id\n",
        "\n",
        "WHERE\n",
        "CM1.City = CM2.City\n",
        "AND\n",
        "EM1.Venue_id = EM2.Venue_id;"
      ],
      "metadata": {
        "id": "yFC4mztBMoUv",
        "outputId": "60bcd202-32b6-4c40-841e-0aa38cadabb7",
        "colab": {
          "base_uri": "https://localhost:8080/",
          "height": 106
        },
        "collapsed": true
      },
      "execution_count": null,
      "outputs": [
        {
          "output_type": "error",
          "ename": "SyntaxError",
          "evalue": "invalid syntax (<ipython-input-2-9a0a0c737a05>, line 2)",
          "traceback": [
            "\u001b[0;36m  File \u001b[0;32m\"<ipython-input-2-9a0a0c737a05>\"\u001b[0;36m, line \u001b[0;32m2\u001b[0m\n\u001b[0;31m    CM1.C_first_name as c_first_name,\u001b[0m\n\u001b[0m                     ^\u001b[0m\n\u001b[0;31mSyntaxError\u001b[0m\u001b[0;31m:\u001b[0m invalid syntax\n"
          ]
        }
      ]
    }
  ]
}